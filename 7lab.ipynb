{
 "cells": [
  {
   "cell_type": "code",
   "execution_count": 1,
   "metadata": {},
   "outputs": [
    {
     "name": "stdout",
     "output_type": "stream",
     "text": [
      "Generation 1: Best Chromosome - 110100, Fitness - 5\n",
      "Generation 2: Best Chromosome - 110110, Fitness - 6\n",
      "Target chromosome reached!\n"
     ]
    }
   ],
   "source": [
    "import random\n",
    "\n",
    "population_size = 10\n",
    "chromosome_length = 6\n",
    "mutation_rate = 0.1\n",
    "target_chromosome = \"110110\"\n",
    "\n",
    "def generate_population(population_size, chromosome_length):\n",
    "    return [''.join(random.choice('01') for _ in range(chromosome_length)) for _ in range(population_size)]\n",
    "\n",
    "def fitness(chromosome):\n",
    "    return sum(bit == target_bit for bit, target_bit in zip(chromosome, target_chromosome))\n",
    "\n",
    "def crossover(parent1, parent2):\n",
    "    crossover_point = random.randint(0, len(parent1) - 1)\n",
    "    child1 = parent1[:crossover_point] + parent2[crossover_point:]\n",
    "    child2 = parent2[:crossover_point] + parent1[crossover_point:]\n",
    "    return child1, child2\n",
    "\n",
    "def mutate(chromosome, mutation_rate):\n",
    "    mutated_chromosome = ''.join(\n",
    "        bit if random.random() > mutation_rate else random.choice('01') for bit in chromosome\n",
    "    )\n",
    "    return mutated_chromosome\n",
    "\n",
    "def select_parents(population):\n",
    "    parents = random.choices(population, weights=[fitness(chromosome) for chromosome in population], k=2)\n",
    "    return parents[0], parents[1]\n",
    "\n",
    "def genetic_algorithm(population_size, chromosome_length, mutation_rate, generations):\n",
    "    population = generate_population(population_size, chromosome_length)\n",
    "    for generation in range(generations):\n",
    "\n",
    "        fitness_scores = [fitness(chromosome) for chromosome in population]\n",
    "\n",
    "\n",
    "        new_population = []\n",
    "        for _ in range(population_size // 2):\n",
    "            parent1, parent2 = select_parents(population)\n",
    "            child1, child2 = crossover(parent1, parent2)\n",
    "            child1 = mutate(child1, mutation_rate)\n",
    "            child2 = mutate(child2, mutation_rate)\n",
    "            new_population.extend([child1, child2])\n",
    "\n",
    "\n",
    "        population = new_population\n",
    "\n",
    "\n",
    "        best_chromosome = max(population, key=fitness)\n",
    "        print(f\"Generation {generation + 1}: Best Chromosome - {best_chromosome}, Fitness - {fitness(best_chromosome)}\")\n",
    "\n",
    "\n",
    "        if fitness(best_chromosome) == len(target_chromosome):\n",
    "            print(\"Target chromosome reached!\")\n",
    "            break\n",
    "\n",
    "if __name__ == \"__main__\":\n",
    "    genetic_algorithm(population_size, chromosome_length, mutation_rate, generations=50)"
   ]
  },
  {
   "cell_type": "code",
   "execution_count": null,
   "metadata": {},
   "outputs": [],
   "source": []
  }
 ],
 "metadata": {
  "kernelspec": {
   "display_name": "Python 3",
   "language": "python",
   "name": "python3"
  },
  "language_info": {
   "codemirror_mode": {
    "name": "ipython",
    "version": 3
   },
   "file_extension": ".py",
   "mimetype": "text/x-python",
   "name": "python",
   "nbconvert_exporter": "python",
   "pygments_lexer": "ipython3",
   "version": "3.10.12"
  }
 },
 "nbformat": 4,
 "nbformat_minor": 2
}
