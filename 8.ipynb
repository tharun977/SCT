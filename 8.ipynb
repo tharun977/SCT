{
 "cells": [
  {
   "cell_type": "code",
   "execution_count": 1,
   "id": "a476f7cd",
   "metadata": {},
   "outputs": [
    {
     "name": "stdout",
     "output_type": "stream",
     "text": [
      "Optimal x : -11.506006516567439\n",
      "Optimal f(x) : 132.38818595929237\n"
     ]
    }
   ],
   "source": [
    "import numpy as np\n",
    "\n",
    "def objective_function(x):\n",
    "    return x**2\n",
    "\n",
    "population_size = 50\n",
    "\n",
    "generations = 100\n",
    "\n",
    "mutation_rate = 0.1\n",
    "\n",
    "population = np.random.uniform(-10 , 10 , size = population_size)\n",
    "\n",
    "for generation in range(generations):\n",
    "\n",
    "    fitness = objective_function(population)\n",
    "\n",
    "    sorted_indices = np.argsort(fitness)[::-1]\n",
    "    selected_population = population[sorted_indices[:population_size]]\n",
    "\n",
    "    crossover_population = np.random.choice(selected_population , size = population_size)\n",
    "\n",
    "    mutation_mask = np.random.rand(population_size) < mutation_rate\n",
    "    mutation_population = np.random.uniform(-1 , 1 , size = population_size)\n",
    "    crossover_population[mutation_mask] += mutation_population[mutation_mask]\n",
    "\n",
    "    population = crossover_population\n",
    "\n",
    "\n",
    "best_individual_index = np.argmax(objective_function(population))\n",
    "bext_x = population[best_individual_index]\n",
    "\n",
    "print(f\"Optimal x : {bext_x}\")\n",
    "print(f\"Optimal f(x) : {objective_function(bext_x)}\")"
   ]
  },
  {
   "cell_type": "code",
   "execution_count": null,
   "id": "5fdcc6b0",
   "metadata": {},
   "outputs": [],
   "source": []
  }
 ],
 "metadata": {
  "kernelspec": {
   "display_name": "Python 3",
   "language": "python",
   "name": "python3"
  },
  "language_info": {
   "codemirror_mode": {
    "name": "ipython",
    "version": 3
   },
   "file_extension": ".py",
   "mimetype": "text/x-python",
   "name": "python",
   "nbconvert_exporter": "python",
   "pygments_lexer": "ipython3",
   "version": "3.10.12"
  }
 },
 "nbformat": 4,
 "nbformat_minor": 5
}
